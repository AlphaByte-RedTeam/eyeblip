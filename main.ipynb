{
 "cells": [
  {
   "cell_type": "code",
   "execution_count": 1,
   "metadata": {},
   "outputs": [],
   "source": [
    "import cv2\n",
    "import time\n",
    "import requests\n",
    "import os\n",
    "import time\n",
    "from dotenv import load_dotenv"
   ]
  },
  {
   "cell_type": "code",
   "execution_count": 2,
   "metadata": {},
   "outputs": [
    {
     "data": {
      "text/plain": [
       "True"
      ]
     },
     "execution_count": 2,
     "metadata": {},
     "output_type": "execute_result"
    }
   ],
   "source": [
    "load_dotenv(os.path.join(os.path.dirname(os.path.curdir), '.env'))"
   ]
  },
  {
   "cell_type": "code",
   "execution_count": 3,
   "metadata": {},
   "outputs": [],
   "source": [
    "# Set up the Hugging Face token here\n",
    "API_URL = \"https://api-inference.huggingface.co/models/Salesforce/blip-image-captioning-large\"\n",
    "API_TOKEN = os.environ.get(\"HUGGINGFACE_TOKEN\")\n",
    "headers = {\"Authorization\": \"Bearer {}\".format(API_TOKEN)}"
   ]
  },
  {
   "cell_type": "code",
   "execution_count": 4,
   "metadata": {},
   "outputs": [],
   "source": [
    "def speak(text):\n",
    "    os.system(f'say \"{text}\"')"
   ]
  },
  {
   "cell_type": "code",
   "execution_count": 5,
   "metadata": {},
   "outputs": [],
   "source": [
    "def query(frame):\n",
    "    with open(frame, \"rb\") as f:\n",
    "        data = f.read()\n",
    "    response = requests.post(API_URL, headers=headers, data=data)\n",
    "    return response.json()"
   ]
  },
  {
   "cell_type": "code",
   "execution_count": 6,
   "metadata": {},
   "outputs": [],
   "source": [
    "# Init camera\n",
    "cap = cv2.VideoCapture(0)"
   ]
  },
  {
   "cell_type": "code",
   "execution_count": 7,
   "metadata": {},
   "outputs": [],
   "source": [
    "last_capture_time = time.time()\n",
    "filename = \"\""
   ]
  },
  {
   "cell_type": "code",
   "execution_count": 8,
   "metadata": {},
   "outputs": [
    {
     "name": "stderr",
     "output_type": "stream",
     "text": [
      "2023-11-19 15:53:45.894 Python[28722:1238623] WARNING: Secure coding is not enabled for restorable state! Enable secure coding by implementing NSApplicationDelegate.applicationSupportsSecureRestorableState: and returning YES.\n"
     ]
    },
    {
     "name": "stdout",
     "output_type": "stream",
     "text": [
      "there are two people standing in a kitchen preparing food\n",
      "there is a woman standing in a kitchen with a man behind her\n",
      "there is a man standing in a kitchen with a woman standing behind him\n",
      "there is a man standing in a room with a lot of clutter\n",
      "there is a woman standing in a room with a lot of clutter\n",
      "there is a woman standing in a kitchen with a man standing behind her\n",
      "there is a man standing in a kitchen with a refrigerator\n"
     ]
    },
    {
     "ename": "KeyError",
     "evalue": "0",
     "output_type": "error",
     "traceback": [
      "\u001b[0;31m---------------------------------------------------------------------------\u001b[0m",
      "\u001b[0;31mKeyError\u001b[0m                                  Traceback (most recent call last)",
      "\u001b[1;32m/Users/avv210/Documents/IT/GitHub/eyeblip/main.ipynb Cell 8\u001b[0m line \u001b[0;36m1\n\u001b[1;32m     <a href='vscode-notebook-cell:/Users/avv210/Documents/IT/GitHub/eyeblip/main.ipynb#X10sZmlsZQ%3D%3D?line=13'>14</a>\u001b[0m saved_frame \u001b[39m=\u001b[39m filename\n\u001b[1;32m     <a href='vscode-notebook-cell:/Users/avv210/Documents/IT/GitHub/eyeblip/main.ipynb#X10sZmlsZQ%3D%3D?line=14'>15</a>\u001b[0m response \u001b[39m=\u001b[39m query(saved_frame)\n\u001b[0;32m---> <a href='vscode-notebook-cell:/Users/avv210/Documents/IT/GitHub/eyeblip/main.ipynb#X10sZmlsZQ%3D%3D?line=15'>16</a>\u001b[0m caption \u001b[39m=\u001b[39m response[\u001b[39m0\u001b[39;49m][\u001b[39m\"\u001b[39m\u001b[39mgenerated_text\u001b[39m\u001b[39m\"\u001b[39m]\n\u001b[1;32m     <a href='vscode-notebook-cell:/Users/avv210/Documents/IT/GitHub/eyeblip/main.ipynb#X10sZmlsZQ%3D%3D?line=16'>17</a>\u001b[0m speak(caption)\n\u001b[1;32m     <a href='vscode-notebook-cell:/Users/avv210/Documents/IT/GitHub/eyeblip/main.ipynb#X10sZmlsZQ%3D%3D?line=17'>18</a>\u001b[0m \u001b[39mprint\u001b[39m(caption)\n",
      "\u001b[0;31mKeyError\u001b[0m: 0"
     ]
    }
   ],
   "source": [
    "while True:\n",
    "    ret, frame = cap.read()\n",
    "    if not ret:\n",
    "        break\n",
    "\n",
    "    current_time = time.time()\n",
    "    time_diff = current_time - last_capture_time\n",
    "    \n",
    "    if time_diff >= 5:\n",
    "        timestamp = time.strftime(\"%Y%m%d-%H%M%S\")\n",
    "        filename = f\"frame_{timestamp}.jpg\"\n",
    "        cv2.imwrite(filename, frame)\n",
    "        last_capture_time = current_time\n",
    "        saved_frame = filename\n",
    "        response = query(saved_frame)\n",
    "        caption = response[0][\"generated_text\"]\n",
    "        speak(caption)\n",
    "        print(caption)\n",
    "        # TODO: Enable this later after experiment complete\n",
    "        # os.remove(saved_frame)\n",
    "\n",
    "    cv2.imshow(\"Video Frame\", frame)\n",
    "    key_pressed = cv2.waitKey(1) & 0xFF\n",
    "    if key_pressed == ord('q'):\n",
    "        break"
   ]
  },
  {
   "cell_type": "code",
   "execution_count": null,
   "metadata": {},
   "outputs": [],
   "source": [
    "cap.release()\n",
    "cv2.destroyAllWindows()"
   ]
  }
 ],
 "metadata": {
  "kernelspec": {
   "display_name": "venv",
   "language": "python",
   "name": "python3"
  },
  "language_info": {
   "codemirror_mode": {
    "name": "ipython",
    "version": 3
   },
   "file_extension": ".py",
   "mimetype": "text/x-python",
   "name": "python",
   "nbconvert_exporter": "python",
   "pygments_lexer": "ipython3",
   "version": "3.11.6"
  }
 },
 "nbformat": 4,
 "nbformat_minor": 2
}
